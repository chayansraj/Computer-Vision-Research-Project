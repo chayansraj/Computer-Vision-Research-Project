{
 "cells": [
  {
   "cell_type": "code",
   "execution_count": 28,
   "metadata": {},
   "outputs": [
    {
     "name": "stdout",
     "output_type": "stream",
     "text": [
      "Num GPUs Available:  1\n"
     ]
    }
   ],
   "source": [
    "import pandas as pd \n",
    "import numpy as np \n",
    "import os\n",
    "import cv2\n",
    "import matplotlib.pyplot as plt\n",
    "import warnings\n",
    "import scipy\n",
    "\n",
    "import tensorflow as tf\n",
    "from tensorflow import keras \n",
    "from tensorflow.keras.layers import Input, Lambda, Dense, Flatten, Dropout\n",
    "from tensorflow.keras.models import Model\n",
    "from tensorflow.keras.layers import Conv2D, MaxPooling2D, Flatten, Dropout, Dense, BatchNormalization, GlobalAveragePooling2D\n",
    "from tensorflow.keras.applications.vgg19 import preprocess_input\n",
    "from tensorflow.keras.preprocessing import image, image_dataset_from_directory\n",
    "from tensorflow.keras.optimizers import RMSprop, Adam\n",
    "from tensorflow.keras.preprocessing.image import ImageDataGenerator\n",
    "from tensorflow.keras.models import Sequential\n",
    "from tensorflow.keras.applications.inception_v3 import InceptionV3 # InceptionV3\n",
    "\n",
    "\n",
    "\n",
    "print(\"Num GPUs Available: \", len(tensorflow.config.list_physical_devices('GPU')))\n",
    "\n",
    "\n",
    "# Set the seed value for experiment reproduci.bility.\n",
    "seed = 1842\n",
    "tensorflow.random.set_seed(seed)\n",
    "np.random.seed(seed)\n",
    "# Turn off warnings for cleaner looking notebook\n",
    "warnings.simplefilter('ignore')"
   ]
  },
  {
   "cell_type": "code",
   "execution_count": 20,
   "metadata": {},
   "outputs": [
    {
     "name": "stdout",
     "output_type": "stream",
     "text": [
      "Found 2600 images belonging to 2 classes.\n",
      "Found 870 images belonging to 2 classes.\n",
      "Found 864 images belonging to 2 classes.\n"
     ]
    }
   ],
   "source": [
    "#define image dataset \n",
    "#why do we rescale?\n",
    "image_generator = ImageDataGenerator(rescale=1/255, validation_split=0, shear_range =.25, zoom_range =.2, horizontal_flip = True, rotation_range=20)     \n",
    "\n",
    "\n",
    "train_dataset = image_generator.flow_from_directory(batch_size=32,\n",
    "                                                 directory='../train',\n",
    "                                                 shuffle=True,\n",
    "                                                 target_size=(224,224), \n",
    "                                                 subset=\"training\",\n",
    "                                                 class_mode='binary')\n",
    "\n",
    "image_generator = ImageDataGenerator(rescale=1/255) \n",
    "\n",
    "validation_dataset = image_generator.flow_from_directory(batch_size=32,\n",
    "                                                 directory='../valid',\n",
    "                                                 shuffle=True,\n",
    "                                                 target_size=(224,224),\n",
    "                                                 class_mode='binary')\n",
    "\n",
    "\n",
    "test_dataset = image_generator.flow_from_directory(\n",
    "                                                 directory='../test',\n",
    "                                                 shuffle=False,\n",
    "                                                 target_size=(224,224), \n",
    "                                                 class_mode=None)"
   ]
  },
  {
   "cell_type": "code",
   "execution_count": 29,
   "metadata": {},
   "outputs": [],
   "source": [
    "model_inception = InceptionV3(input_shape=(224,224,3), weights='imagenet', include_top=False)\n",
    "\n",
    "for layer in model_inception.layers:\n",
    "    layer.trainable = False\n",
    "#x = Flatten()(model_inception.output)\n",
    "\n",
    "tf.random.set_seed(150)\n",
    "\n",
    "model = tf.keras.models.Sequential([\n",
    "    model_inception,\n",
    "    GlobalAveragePooling2D(),    \n",
    "    Dense(512,activation=\"relu\"),\n",
    "    Dropout(0.4),\n",
    "    # Dense(256,activation=\"relu\"),\n",
    "    # Dropout(0.4),\n",
    "    Dense(128, activation='swish'),  \n",
    "    Dense(1, activation='sigmoid')\n",
    "])\n",
    "\n",
    "model.compile(optimizer=Adam(),\n",
    "              loss=\"binary_crossentropy\",\n",
    "              metrics=['accuracy'])"
   ]
  },
  {
   "cell_type": "code",
   "execution_count": 30,
   "metadata": {},
   "outputs": [
    {
     "name": "stdout",
     "output_type": "stream",
     "text": [
      "Model: \"sequential_4\"\n",
      "_________________________________________________________________\n",
      "Layer (type)                 Output Shape              Param #   \n",
      "=================================================================\n",
      "inception_v3 (Functional)    (None, 5, 5, 2048)        21802784  \n",
      "_________________________________________________________________\n",
      "global_average_pooling2d (Gl (None, 2048)              0         \n",
      "_________________________________________________________________\n",
      "dense_18 (Dense)             (None, 512)               1049088   \n",
      "_________________________________________________________________\n",
      "dropout_4 (Dropout)          (None, 512)               0         \n",
      "_________________________________________________________________\n",
      "dense_19 (Dense)             (None, 128)               65664     \n",
      "_________________________________________________________________\n",
      "dense_20 (Dense)             (None, 1)                 129       \n",
      "=================================================================\n",
      "Total params: 22,917,665\n",
      "Trainable params: 1,114,881\n",
      "Non-trainable params: 21,802,784\n",
      "_________________________________________________________________\n"
     ]
    }
   ],
   "source": [
    "model.summary()"
   ]
  },
  {
   "cell_type": "code",
   "execution_count": 13,
   "metadata": {},
   "outputs": [],
   "source": [
    "prediction = Dense(1, activation='sigmoid')(x)\n",
    "\n",
    "modelinception = Model(inputs=model_inception.input, outputs=prediction)\n",
    "\n",
    "modelinception.compile(optimizer='adam',\n",
    "loss=tensorflow.losses.BinaryCrossentropy(),\n",
    "metrics=[keras.metrics.AUC(name='auc'),'acc'])\n",
    "\n",
    "#callback = keras.callbacks.EarlyStopping(monitor='val_loss',\n",
    "#                                            patience=8,\n",
    "#                                            restore_best_weights=True"
   ]
  },
  {
   "cell_type": "code",
   "execution_count": 31,
   "metadata": {},
   "outputs": [
    {
     "name": "stdout",
     "output_type": "stream",
     "text": [
      "Epoch 1/10\n"
     ]
    }
   ],
   "source": [
    "model.fit(train_dataset, epochs=10, validation_data=validation_dataset)"
   ]
  },
  {
   "cell_type": "code",
   "execution_count": null,
   "metadata": {},
   "outputs": [
    {
     "ename": "RuntimeError",
     "evalue": "You must compile your model before training/testing. Use `model.compile(optimizer, loss)`.",
     "output_type": "error",
     "traceback": [
      "\u001b[0;31m---------------------------------------------------------------------------\u001b[0m",
      "\u001b[0;31mRuntimeError\u001b[0m                              Traceback (most recent call last)",
      "Cell \u001b[0;32mIn [14], line 1\u001b[0m\n\u001b[0;32m----> 1\u001b[0m model_inception\u001b[39m.\u001b[39;49mevaluate(test_dataset)\n",
      "File \u001b[0;32m~/.conda/envs/research/lib/python3.9/site-packages/tensorflow/python/keras/engine/training.py:1342\u001b[0m, in \u001b[0;36mModel.evaluate\u001b[0;34m(self, x, y, batch_size, verbose, sample_weight, steps, callbacks, max_queue_size, workers, use_multiprocessing, return_dict)\u001b[0m\n\u001b[1;32m   1340\u001b[0m base_layer\u001b[39m.\u001b[39mkeras_api_gauge\u001b[39m.\u001b[39mget_cell(\u001b[39m'\u001b[39m\u001b[39mevaluate\u001b[39m\u001b[39m'\u001b[39m)\u001b[39m.\u001b[39mset(\u001b[39mTrue\u001b[39;00m)\n\u001b[1;32m   1341\u001b[0m version_utils\u001b[39m.\u001b[39mdisallow_legacy_graph(\u001b[39m'\u001b[39m\u001b[39mModel\u001b[39m\u001b[39m'\u001b[39m, \u001b[39m'\u001b[39m\u001b[39mevaluate\u001b[39m\u001b[39m'\u001b[39m)\n\u001b[0;32m-> 1342\u001b[0m \u001b[39mself\u001b[39;49m\u001b[39m.\u001b[39;49m_assert_compile_was_called()\n\u001b[1;32m   1343\u001b[0m \u001b[39mself\u001b[39m\u001b[39m.\u001b[39m_check_call_args(\u001b[39m'\u001b[39m\u001b[39mevaluate\u001b[39m\u001b[39m'\u001b[39m)\n\u001b[1;32m   1344\u001b[0m _disallow_inside_tf_function(\u001b[39m'\u001b[39m\u001b[39mevaluate\u001b[39m\u001b[39m'\u001b[39m)\n",
      "File \u001b[0;32m~/.conda/envs/research/lib/python3.9/site-packages/tensorflow/python/keras/engine/training.py:2592\u001b[0m, in \u001b[0;36mModel._assert_compile_was_called\u001b[0;34m(self)\u001b[0m\n\u001b[1;32m   2586\u001b[0m \u001b[39mdef\u001b[39;00m \u001b[39m_assert_compile_was_called\u001b[39m(\u001b[39mself\u001b[39m):\n\u001b[1;32m   2587\u001b[0m   \u001b[39m# Checks whether `compile` has been called. If it has been called,\u001b[39;00m\n\u001b[1;32m   2588\u001b[0m   \u001b[39m# then the optimizer is set. This is different from whether the\u001b[39;00m\n\u001b[1;32m   2589\u001b[0m   \u001b[39m# model is compiled\u001b[39;00m\n\u001b[1;32m   2590\u001b[0m   \u001b[39m# (i.e. whether the model is built and its inputs/outputs are set).\u001b[39;00m\n\u001b[1;32m   2591\u001b[0m   \u001b[39mif\u001b[39;00m \u001b[39mnot\u001b[39;00m \u001b[39mself\u001b[39m\u001b[39m.\u001b[39m_is_compiled:\n\u001b[0;32m-> 2592\u001b[0m     \u001b[39mraise\u001b[39;00m \u001b[39mRuntimeError\u001b[39;00m(\u001b[39m'\u001b[39m\u001b[39mYou must compile your model before \u001b[39m\u001b[39m'\u001b[39m\n\u001b[1;32m   2593\u001b[0m                        \u001b[39m'\u001b[39m\u001b[39mtraining/testing. \u001b[39m\u001b[39m'\u001b[39m\n\u001b[1;32m   2594\u001b[0m                        \u001b[39m'\u001b[39m\u001b[39mUse `model.compile(optimizer, loss)`.\u001b[39m\u001b[39m'\u001b[39m)\n",
      "\u001b[0;31mRuntimeError\u001b[0m: You must compile your model before training/testing. Use `model.compile(optimizer, loss)`."
     ]
    }
   ],
   "source": [
    "model.evaluate(test_dataset)"
   ]
  },
  {
   "cell_type": "code",
   "execution_count": null,
   "metadata": {},
   "outputs": [],
   "source": []
  }
 ],
 "metadata": {
  "kernelspec": {
   "display_name": "researchkernel",
   "language": "python",
   "name": "researchkernel"
  },
  "language_info": {
   "codemirror_mode": {
    "name": "ipython",
    "version": 3
   },
   "file_extension": ".py",
   "mimetype": "text/x-python",
   "name": "python",
   "nbconvert_exporter": "python",
   "pygments_lexer": "ipython3",
   "version": "3.9.0"
  },
  "orig_nbformat": 4
 },
 "nbformat": 4,
 "nbformat_minor": 2
}
